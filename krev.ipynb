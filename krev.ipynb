{
 "metadata": {
  "language_info": {
   "codemirror_mode": {
    "name": "ipython",
    "version": 3
   },
   "file_extension": ".py",
   "mimetype": "text/x-python",
   "name": "python",
   "nbconvert_exporter": "python",
   "pygments_lexer": "ipython3",
   "version": "3.8.6"
  },
  "orig_nbformat": 2,
  "kernelspec": {
   "name": "python3",
   "display_name": "Python 3"
  }
 },
 "nbformat": 4,
 "nbformat_minor": 2,
 "cells": [
  {
   "cell_type": "code",
   "execution_count": null,
   "metadata": {},
   "outputs": [],
   "source": [
    "\"\"\"První část - Příprava datasetu\"\"\"\n",
    "\n",
    "'''dataset\n",
    "https://www.kaggle.com/iarunava/cell-images-for-detecting-malaria\n",
    "'''\n",
    "\n",
    "'''model dává nezávisle na parametrech a na počtu epoch vžy výsledek 50%\n",
    "Důvodem bude chyba v připravě dat, kterou se mi nepodařilo najít, proto jsem v souboru krev_final.ipynb\n",
    "zvolil jiný postup řešení a model již funguje'''"
   ]
  },
  {
   "cell_type": "code",
   "execution_count": null,
   "metadata": {},
   "outputs": [],
   "source": [
    "'''\n",
    "Importy\n",
    "'''\n",
    "import numpy as np\n",
    "import matplotlib.pyplot as plt\n",
    "import os\n",
    "import cv2 #pip install opencv-python\n",
    "from tqdm import tqdm #pip install tqdm\n",
    "\n",
    "\n",
    "print('načtení dokončeno')"
   ]
  },
  {
   "cell_type": "code",
   "execution_count": null,
   "metadata": {},
   "outputs": [],
   "source": [
    "#cesta ke složce, ve které jsou podsložky s obrázky\n",
    "path_to_file = \"/home/sanctuary/DATAdrive/Documents/archive/cell_images/\"\n",
    "#název podsložek parasitised=nemoc Uninfected=zdravý\n",
    "files = [\"Parasitized\", \"Uninfected\"]\n",
    "print('cesty načteny')"
   ]
  },
  {
   "cell_type": "code",
   "execution_count": null,
   "metadata": {},
   "outputs": [],
   "source": [
    "\"\"\"Ukázka jednoho obrázku malárie a jednoho obrázku zdrávé červenné krvinky\"\"\"\n",
    "\n",
    "\n",
    "for file_ in files:  # foreach pro složky s obrázky\n",
    "    path = os.path.join(path_to_file,file_) # cesta k jednotlivým složkám\n",
    "\n",
    "    for img in os.listdir(path):  # foreach pro obrázky ve složce\n",
    "        array_of_img = cv2.imread(os.path.join(path,img), cv2.IMREAD_GRAYSCALE)  # vložení obrázků do pole (array)\n",
    "        plt.imshow(array_of_img, cmap='gray')  # graf šedá barva\n",
    "        \"\"\"^^pravděpodobně budou stačit černobíle obrázky, popřípadě změna zde^^\"\"\"\n",
    "        plt.show()  # ukázat graf\n",
    "        \n",
    "        break # break aby tu byl jen jeden obrázek\n",
    "\n",
    "        \n",
    "    "
   ]
  },
  {
   "cell_type": "code",
   "execution_count": null,
   "metadata": {},
   "outputs": [],
   "source": [
    "\"\"\"je vidět že  každý obrázek má jiný rozměr a je tedy třeba to nějak upravit\"\"\""
   ]
  },
  {
   "cell_type": "code",
   "execution_count": null,
   "metadata": {},
   "outputs": [],
   "source": [
    "new_size = 50\n",
    "\"\"\"změna velikosti obrázků na  new_size * new_size\"\"\"\n",
    "new_array = cv2.resize(array_of_img, (new_size, new_size))\n",
    "plt.imshow(new_array,cmap='gray' )\n",
    "plt.show()\n",
    "# ukázka změny"
   ]
  },
  {
   "cell_type": "code",
   "execution_count": null,
   "metadata": {},
   "outputs": [],
   "source": [
    "print(f'starý rozměr - {array_of_img.shape}')\n",
    "print(f'nový rozměr - {new_array.shape}') #rozměr obrázku"
   ]
  },
  {
   "cell_type": "code",
   "execution_count": null,
   "metadata": {},
   "outputs": [],
   "source": [
    "#doba trvání je přibližně 2 minuty pro každou složku takže dohromaady asi 4 minuty\n",
    "\n",
    "\n",
    "training_data = []\n",
    "\n",
    "#jednotlivé kroky popsány výše\n",
    "\n",
    "\n",
    "for file_ in files:\n",
    "    path = os.path.join(path_to_file,file_)   \n",
    "    index_ = files.index(file_)  # index  0 pro malárii jedna pro zravé \n",
    "    for img in tqdm(os.listdir(path)): #foreach pro obrázky    \n",
    "        try:\n",
    "            img_array = cv2.imread(os.path.join(path,img), cv2.IMREAD_GRAYSCALE)  \n",
    "            new_array = cv2.resize(img_array, (new_size, new_size))  \n",
    "            training_data.append([new_array, index_])  # připnutí pole jednoho obrázku do polí s trénovacími daty\n",
    "        except Exception as e:  # možnost chyby v případě špatné cesty nebo \"corrupt\" obrázku.\n",
    "            pass\n",
    "\n",
    "print('')\n",
    "print(len(training_data)) #vypíše velikost testovacích dat"
   ]
  },
  {
   "cell_type": "code",
   "execution_count": null,
   "metadata": {},
   "outputs": [],
   "source": [
    "import random\n",
    "# zamýchání testovacích dat\n",
    "random.shuffle(training_data)"
   ]
  },
  {
   "cell_type": "code",
   "execution_count": null,
   "metadata": {},
   "outputs": [],
   "source": [
    "#vypíše 0 pokud se jedná o malárii 1 pokud zravou čk\n",
    "for a in training_data[:20]:\n",
    "    print(a[1])\n",
    "    \n",
    "\n"
   ]
  },
  {
   "cell_type": "code",
   "execution_count": null,
   "metadata": {},
   "outputs": [],
   "source": [
    "features_ = []\n",
    "labels_ = []\n",
    "\n",
    "for features,label in training_data: #vložení popisů a feature do samostatných polí\n",
    "    features_.append(features)\n",
    "    labels_.append(label)\n",
    "\n",
    "print(features_[0].reshape(-1, new_size, new_size, 1)) # -1 => počet feature je neomezený, 1 => černobílé (3 pro barevné)\n",
    "\n",
    "features_ = np.array(features_).reshape(-1, new_size, new_size, 1) # reshape pro použití modulu KERAS"
   ]
  },
  {
   "cell_type": "code",
   "execution_count": null,
   "metadata": {},
   "outputs": [],
   "source": [
    "\"\"\"uložení testovacích dat, aby je nebylo nutné vytvářet opakovaně\"\"\"\n",
    "\n",
    "import pickle\n",
    "\n",
    "pickle_out = open(\"feature.pickle\",\"wb\")\n",
    "pickle.dump(features_, pickle_out)\n",
    "pickle_out.close()\n",
    "\n",
    "pickle_out = open(\"label.pickle\",\"wb\")\n",
    "pickle.dump(labels_, pickle_out)\n",
    "pickle_out.close()\n",
    "\n",
    "print('uloženo')"
   ]
  },
  {
   "cell_type": "code",
   "execution_count": null,
   "metadata": {},
   "outputs": [],
   "source": [
    "\"\"\"načtení testovacích dat\"\"\"\n",
    "import pickle\n",
    "\n",
    "pickle_in = open(\"feature.pickle\",\"rb\")\n",
    "features_ = pickle.load(pickle_in)\n",
    "\n",
    "pickle_in = open(\"label.pickle\",\"rb\")\n",
    "labels_ = pickle.load(pickle_in)\n",
    "\n",
    "print('načteno')\n"
   ]
  },
  {
   "cell_type": "code",
   "execution_count": null,
   "metadata": {},
   "outputs": [],
   "source": [
    "\"\"\"Druhá část - Model\"\"\""
   ]
  },
  {
   "cell_type": "code",
   "execution_count": null,
   "metadata": {},
   "outputs": [],
   "source": [
    "\"\"\"nefunkční model\"\"\" \n",
    "\n",
    "import numpy as np\n",
    "\n",
    "import tensorflow as tf #pip install tensorflow\n",
    "\n",
    "from tensorflow.keras.datasets import cifar10\n",
    "from tensorflow.keras.preprocessing.image import ImageDataGenerator\n",
    "from tensorflow.keras.models import Sequential\n",
    "from tensorflow.keras.layers import Dense, Dropout, Activation, Flatten\n",
    "from tensorflow.keras.layers import Conv2D, MaxPooling2D\n",
    "\n",
    "\n",
    "features_=np.array(features_/255.0) #normalizování dat.. scaling\n",
    "labels_=np.array(labels_)\n",
    "\n",
    "model = Sequential()\n",
    "\n",
    "model.add(Conv2D(32, (3, 3), input_shape=features_.shape[1:]))# přidat do modelu Convoluční vrstvu [1:]=> přeskočí první sloupec kvůli použití (-1) výše u reshape\n",
    "                                                                #(3,3) velikost 'pooling window'\n",
    "                                                                #50 => počet neuronů\n",
    "model.add(Activation('relu')) \n",
    "model.add(MaxPooling2D(pool_size=(2,2),strides=2))\n",
    "\n",
    "\n",
    "# přidání aktivační vrstvy\n",
    "model.add(MaxPooling2D(pool_size=(2, 2),strides=2)) # pooling do 2x2\n",
    "\n",
    "model.add(Conv2D(64, (3, 3)))\n",
    "model.add(Activation('relu'))\n",
    "model.add(MaxPooling2D(pool_size=(2, 2),strides=2))\n",
    "\n",
    "model.add(Conv2D(128, (3, 3)))\n",
    "model.add(Activation('relu'))\n",
    "model.add(MaxPooling2D(pool_size=(2, 2),strides=2))\n",
    "\n",
    "\n",
    "\n",
    "model.add(Flatten())  # udělá z modelu jednorozměrný model aby šlo p5idat Dense\n",
    "\n",
    "\n",
    "model.add(Dense(64,activation='relu'))\n",
    "\n",
    "# droupout vrstva na regulování (zahodí 20% náhodně vybraných neuronů)\n",
    "model.add(Dropout(0.2))\n",
    "model.add(Dense(32,activation='relu'))\n",
    "model.add(Dropout(0.2))\n",
    "model.add(Dense(1,activation='sigmoid'))\n",
    "\n",
    "\n",
    "\n",
    "model.compile(loss='binary_crossentropy',\n",
    "              optimizer='adam',\n",
    "              metrics=['accuracy'])\n",
    "\n",
    "model.fit(features_, labels_, batch_size=100, epochs=10, validation_split=0.1)   "
   ]
  },
  {
   "cell_type": "code",
   "execution_count": null,
   "metadata": {},
   "outputs": [],
   "source": [
    "\"\"\"Výsledek modelu\n",
    "\n",
    "Epoch 1/10\n",
    "249/249 [==============================] - 10s 38ms/step - loss: 0.6932 - accuracy: 0.5004 - val_loss: 0.6930 - val_accuracy: 0.5134\n",
    "Epoch 2/10\n",
    "249/249 [==============================] - 10s 38ms/step - loss: 0.6931 - accuracy: 0.5015 - val_loss: 0.6937 - val_accuracy: 0.4866\n",
    "Epoch 3/10\n",
    "249/249 [==============================] - 9s 38ms/step - loss: 0.6932 - accuracy: 0.5000 - val_loss: 0.6930 - val_accuracy: 0.5134\n",
    "Epoch 4/10\n",
    "249/249 [==============================] - 9s 38ms/step - loss: 0.6932 - accuracy: 0.4977 - val_loss: 0.6932 - val_accuracy: 0.4866\n",
    "Epoch 5/10\n",
    "249/249 [==============================] - 9s 37ms/step - loss: 0.6932 - accuracy: 0.4967 - val_loss: 0.6931 - val_accuracy: 0.5134\n",
    "Epoch 6/10\n",
    "249/249 [==============================] - 9s 37ms/step - loss: 0.6932 - accuracy: 0.5006 - val_loss: 0.6933 - val_accuracy: 0.4866\n",
    "Epoch 7/10\n",
    "249/249 [==============================] - 9s 37ms/step - loss: 0.6932 - accuracy: 0.5015 - val_loss: 0.6933 - val_accuracy: 0.4866\n",
    "Epoch 8/10\n",
    "249/249 [==============================] - 9s 37ms/step - loss: 0.6932 - accuracy: 0.5015 - val_loss: 0.6932 - val_accuracy: 0.4866\n",
    "Epoch 9/10\n",
    "249/249 [==============================] - 9s 36ms/step - loss: 0.6932 - accuracy: 0.5015 - val_loss: 0.6933 - val_accuracy: 0.4866\n",
    "Epoch 10/10\n",
    "249/249 [==============================] - 9s 36ms/step - loss: 0.6932 - accuracy: 0.5015 - val_loss: 0.6933 - val_accuracy: 0.4866\n",
    "\n",
    "\"\"\""
   ]
  }
 ]
}